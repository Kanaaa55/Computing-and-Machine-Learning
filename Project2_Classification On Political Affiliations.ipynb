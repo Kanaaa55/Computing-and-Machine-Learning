{
 "cells": [
  {
   "cell_type": "markdown",
   "id": "4472cc05-e3ec-4060-9409-08dc45c07b26",
   "metadata": {},
   "source": [
    "---\n",
    "self-contained: true\n",
    "title: \"GSB 544-Final-Classification\"\n",
    "author: \"Ruojia Kuang\"\n",
    "format:\n",
    "  html: \n",
    "    theme: cosmo\n",
    "---"
   ]
  },
  {
   "cell_type": "code",
   "execution_count": 55,
   "id": "ea784bd7-24c0-49ac-87e6-fca430b482b1",
   "metadata": {
    "tags": []
   },
   "outputs": [],
   "source": [
    "import pandas as pd\n",
    "import numpy as np\n",
    "from sklearn.model_selection import train_test_split, GridSearchCV, cross_val_score\n",
    "from sklearn.compose import ColumnTransformer\n",
    "from sklearn.discriminant_analysis import LinearDiscriminantAnalysis\n",
    "from sklearn.discriminant_analysis import QuadraticDiscriminantAnalysis\n",
    "from sklearn.svm import SVC\n",
    "from sklearn import svm\n",
    "from sklearn.preprocessing import StandardScaler\n",
    "from sklearn.metrics import confusion_matrix, f1_score, make_scorer\n",
    "from sklearn.impute import SimpleImputer\n",
    "from sklearn.neighbors import KNeighborsClassifier\n",
    "from sklearn.tree import DecisionTreeClassifier, plot_tree\n",
    "from sklearn.model_selection import train_test_split\n",
    "from sklearn.preprocessing import OneHotEncoder\n",
    "from sklearn.pipeline import Pipeline\n",
    "from sklearn.metrics import classification_report, accuracy_score"
   ]
  },
  {
   "cell_type": "code",
   "execution_count": 56,
   "id": "53c92113-015a-43d7-a8da-aedf86536f92",
   "metadata": {
    "tags": []
   },
   "outputs": [
    {
     "data": {
      "text/html": [
       "<div>\n",
       "<style scoped>\n",
       "    .dataframe tbody tr th:only-of-type {\n",
       "        vertical-align: middle;\n",
       "    }\n",
       "\n",
       "    .dataframe tbody tr th {\n",
       "        vertical-align: top;\n",
       "    }\n",
       "\n",
       "    .dataframe thead th {\n",
       "        text-align: right;\n",
       "    }\n",
       "</style>\n",
       "<table border=\"1\" class=\"dataframe\">\n",
       "  <thead>\n",
       "    <tr style=\"text-align: right;\">\n",
       "      <th></th>\n",
       "      <th>id_num</th>\n",
       "      <th>Q1</th>\n",
       "      <th>Q2</th>\n",
       "      <th>political_affiliation</th>\n",
       "      <th>Q4</th>\n",
       "      <th>Q5</th>\n",
       "      <th>Q6</th>\n",
       "      <th>Q7</th>\n",
       "      <th>Q8</th>\n",
       "      <th>Q9</th>\n",
       "      <th>Q10</th>\n",
       "      <th>Q11</th>\n",
       "      <th>Q12</th>\n",
       "      <th>Q13</th>\n",
       "      <th>Q14</th>\n",
       "      <th>Q15</th>\n",
       "      <th>Q16</th>\n",
       "      <th>Q17</th>\n",
       "      <th>Q18</th>\n",
       "    </tr>\n",
       "  </thead>\n",
       "  <tbody>\n",
       "    <tr>\n",
       "      <th>0</th>\n",
       "      <td>1</td>\n",
       "      <td>Male</td>\n",
       "      <td>53</td>\n",
       "      <td>Independent</td>\n",
       "      <td>Liberal</td>\n",
       "      <td>College degree</td>\n",
       "      <td>Black</td>\n",
       "      <td>No</td>\n",
       "      <td>No</td>\n",
       "      <td>No</td>\n",
       "      <td>Yes, somewhat religious</td>\n",
       "      <td>Pro-Choice</td>\n",
       "      <td>No</td>\n",
       "      <td>No</td>\n",
       "      <td>Behave no differently</td>\n",
       "      <td>5</td>\n",
       "      <td>2</td>\n",
       "      <td>5</td>\n",
       "      <td>No</td>\n",
       "    </tr>\n",
       "    <tr>\n",
       "      <th>1</th>\n",
       "      <td>5</td>\n",
       "      <td>Female</td>\n",
       "      <td>66</td>\n",
       "      <td>Independent</td>\n",
       "      <td>Conservative</td>\n",
       "      <td>Some college</td>\n",
       "      <td>White</td>\n",
       "      <td>Yes</td>\n",
       "      <td>No</td>\n",
       "      <td>Yes</td>\n",
       "      <td>Yes, very religious</td>\n",
       "      <td>Pro-life</td>\n",
       "      <td>Yes</td>\n",
       "      <td>Yes</td>\n",
       "      <td>Less Willing</td>\n",
       "      <td>4</td>\n",
       "      <td>5</td>\n",
       "      <td>4</td>\n",
       "      <td>No</td>\n",
       "    </tr>\n",
       "    <tr>\n",
       "      <th>2</th>\n",
       "      <td>7</td>\n",
       "      <td>Female</td>\n",
       "      <td>58</td>\n",
       "      <td>Democrat</td>\n",
       "      <td>Liberal</td>\n",
       "      <td>College degree</td>\n",
       "      <td>White</td>\n",
       "      <td>No</td>\n",
       "      <td>No</td>\n",
       "      <td>No</td>\n",
       "      <td>Yes, very religious</td>\n",
       "      <td>Pro-Choice</td>\n",
       "      <td>No</td>\n",
       "      <td>No</td>\n",
       "      <td>Behave no differently</td>\n",
       "      <td>5</td>\n",
       "      <td>1</td>\n",
       "      <td>4</td>\n",
       "      <td>Yes</td>\n",
       "    </tr>\n",
       "    <tr>\n",
       "      <th>3</th>\n",
       "      <td>8</td>\n",
       "      <td>Male</td>\n",
       "      <td>55</td>\n",
       "      <td>Independent</td>\n",
       "      <td>Moderate</td>\n",
       "      <td>High school or less</td>\n",
       "      <td>White</td>\n",
       "      <td>Yes</td>\n",
       "      <td>Yes</td>\n",
       "      <td>Yes</td>\n",
       "      <td>Yes, somewhat religious</td>\n",
       "      <td>Pro-life</td>\n",
       "      <td>Yes</td>\n",
       "      <td>Yes</td>\n",
       "      <td>Less Willing</td>\n",
       "      <td>4</td>\n",
       "      <td>5</td>\n",
       "      <td>4</td>\n",
       "      <td>Yes</td>\n",
       "    </tr>\n",
       "    <tr>\n",
       "      <th>4</th>\n",
       "      <td>9</td>\n",
       "      <td>Male</td>\n",
       "      <td>64</td>\n",
       "      <td>Republican</td>\n",
       "      <td>Conservative</td>\n",
       "      <td>High school or less</td>\n",
       "      <td>White</td>\n",
       "      <td>Yes</td>\n",
       "      <td>Yes</td>\n",
       "      <td>Yes</td>\n",
       "      <td>No</td>\n",
       "      <td>Pro-life</td>\n",
       "      <td>No</td>\n",
       "      <td>No</td>\n",
       "      <td>Behave no differently</td>\n",
       "      <td>5</td>\n",
       "      <td>1</td>\n",
       "      <td>1</td>\n",
       "      <td>Yes</td>\n",
       "    </tr>\n",
       "  </tbody>\n",
       "</table>\n",
       "</div>"
      ],
      "text/plain": [
       "   id_num      Q1  Q2 political_affiliation            Q4  \\\n",
       "0       1    Male  53           Independent       Liberal   \n",
       "1       5  Female  66           Independent  Conservative   \n",
       "2       7  Female  58              Democrat       Liberal   \n",
       "3       8    Male  55           Independent      Moderate   \n",
       "4       9    Male  64            Republican  Conservative   \n",
       "\n",
       "                    Q5     Q6   Q7   Q8   Q9                      Q10  \\\n",
       "0       College degree  Black   No   No   No  Yes, somewhat religious   \n",
       "1         Some college  White  Yes   No  Yes      Yes, very religious   \n",
       "2       College degree  White   No   No   No      Yes, very religious   \n",
       "3  High school or less  White  Yes  Yes  Yes  Yes, somewhat religious   \n",
       "4  High school or less  White  Yes  Yes  Yes                       No   \n",
       "\n",
       "          Q11  Q12  Q13                    Q14  Q15  Q16  Q17  Q18  \n",
       "0  Pro-Choice   No   No  Behave no differently    5    2    5   No  \n",
       "1    Pro-life  Yes  Yes           Less Willing    4    5    4   No  \n",
       "2  Pro-Choice   No   No  Behave no differently    5    1    4  Yes  \n",
       "3    Pro-life  Yes  Yes           Less Willing    4    5    4  Yes  \n",
       "4    Pro-life   No   No  Behave no differently    5    1    1  Yes  "
      ]
     },
     "execution_count": 56,
     "metadata": {},
     "output_type": "execute_result"
    }
   ],
   "source": [
    "train_data = pd.read_csv('/Users/ruojiakuang/Desktop/GSB S544 Computing and Machine Learning for Business Analytics/FInal Code/gsb-544-fall-2023-political-affiliations/CAH-201803-train.csv')\n",
    "train_data.head()"
   ]
  },
  {
   "cell_type": "code",
   "execution_count": 57,
   "id": "a929bb85-94fc-49b9-98e3-08003ca2801e",
   "metadata": {
    "tags": []
   },
   "outputs": [
    {
     "data": {
      "text/plain": [
       "id_num                    int64\n",
       "Q1                       object\n",
       "Q2                        int64\n",
       "political_affiliation    object\n",
       "Q4                       object\n",
       "Q5                       object\n",
       "Q6                       object\n",
       "Q7                       object\n",
       "Q8                       object\n",
       "Q9                       object\n",
       "Q10                      object\n",
       "Q11                      object\n",
       "Q12                      object\n",
       "Q13                      object\n",
       "Q14                      object\n",
       "Q15                       int64\n",
       "Q16                       int64\n",
       "Q17                       int64\n",
       "Q18                      object\n",
       "dtype: object"
      ]
     },
     "execution_count": 57,
     "metadata": {},
     "output_type": "execute_result"
    }
   ],
   "source": [
    "train_data.dtypes"
   ]
  },
  {
   "cell_type": "code",
   "execution_count": 58,
   "id": "72efe1c0-2087-448a-bd1d-0116b52a087c",
   "metadata": {
    "tags": []
   },
   "outputs": [
    {
     "name": "stdout",
     "output_type": "stream",
     "text": [
      "<class 'pandas.core.frame.DataFrame'>\n",
      "RangeIndex: 169 entries, 0 to 168\n",
      "Data columns (total 18 columns):\n",
      " #   Column                 Non-Null Count  Dtype \n",
      "---  ------                 --------------  ----- \n",
      " 0   Q1                     169 non-null    object\n",
      " 1   Q2                     169 non-null    int64 \n",
      " 2   political_affiliation  169 non-null    object\n",
      " 3   Q4                     169 non-null    object\n",
      " 4   Q5                     169 non-null    object\n",
      " 5   Q6                     169 non-null    object\n",
      " 6   Q7                     169 non-null    object\n",
      " 7   Q8                     169 non-null    object\n",
      " 8   Q9                     169 non-null    object\n",
      " 9   Q10                    169 non-null    object\n",
      " 10  Q11                    169 non-null    object\n",
      " 11  Q12                    169 non-null    object\n",
      " 12  Q13                    169 non-null    object\n",
      " 13  Q14                    169 non-null    object\n",
      " 14  Q15                    169 non-null    int64 \n",
      " 15  Q16                    169 non-null    int64 \n",
      " 16  Q17                    169 non-null    int64 \n",
      " 17  Q18                    169 non-null    object\n",
      "dtypes: int64(4), object(14)\n",
      "memory usage: 23.9+ KB\n"
     ]
    }
   ],
   "source": [
    "# Clean the train dataset\n",
    "train_data_cleaned = train_data.drop('id_num', axis=1)\n",
    "train_data_cleaned = train_data_cleaned.dropna()\n",
    "\n",
    "train_data_cleaned.info()"
   ]
  },
  {
   "cell_type": "markdown",
   "id": "461ef500-958a-4d68-8c68-5afe7c489b5a",
   "metadata": {},
   "source": [
    "# Decision Tree Model"
   ]
  },
  {
   "cell_type": "code",
   "execution_count": 59,
   "id": "9e4f1783-f174-4df9-8710-a379309d1595",
   "metadata": {
    "tags": []
   },
   "outputs": [],
   "source": [
    "# Splitting the dataset into features (X) and target (y)\n",
    "X = train_data_cleaned.drop('political_affiliation', axis=1)\n",
    "y = train_data_cleaned['political_affiliation']\n",
    "\n",
    "# Identifying categorical columns\n",
    "categorical_cols = X.select_dtypes(include=['object', 'category']).columns\n",
    "numerical_cols = X.select_dtypes(include=['int64', 'float64']).columns\n",
    "\n",
    "# Creating a column transformer for one-hot encoding\n",
    "preprocessor = ColumnTransformer(\n",
    "    transformers=[\n",
    "        ('num', StandardScaler(), numerical_cols),\n",
    "        ('cat', OneHotEncoder(handle_unknown='ignore'), categorical_cols)\n",
    "    ])\n",
    "\n",
    "# Creating a pipeline that first one-hot encodes the data then fits a Decision Tree model\n",
    "pipeline = Pipeline(steps=[('preprocessor', preprocessor),\n",
    "                           ('classifier', DecisionTreeClassifier(random_state=0))])\n",
    "\n",
    "# Splitting the data into training and testing sets\n",
    "X_train, X_test, y_train, y_test = train_test_split(X, y, test_size=0.2, random_state=0)\n",
    "\n",
    "# Fitting the pipeline to the training data\n",
    "dt_pipeline_fitted = pipeline.fit(X_train, y_train)"
   ]
  },
  {
   "cell_type": "code",
   "execution_count": 60,
   "id": "05b7cfa4-8059-4cd3-a9f8-c28d75b3a8be",
   "metadata": {
    "tags": []
   },
   "outputs": [
    {
     "data": {
      "text/plain": [
       "0.5294117647058824"
      ]
     },
     "execution_count": 60,
     "metadata": {},
     "output_type": "execute_result"
    }
   ],
   "source": [
    "y_pred = dt_pipeline_fitted.predict(X_test)\n",
    "accuracy = accuracy_score(y_test, y_pred)\n",
    "report = classification_report(y_test, y_pred)\n",
    "accuracy"
   ]
  },
  {
   "cell_type": "markdown",
   "id": "3c4e2461-3409-476f-ac56-d56b868bae9a",
   "metadata": {},
   "source": [
    "# KNN Model"
   ]
  },
  {
   "cell_type": "code",
   "execution_count": 61,
   "id": "c3a5f90f-93c1-4e0a-999c-5c7917be2df3",
   "metadata": {
    "tags": []
   },
   "outputs": [
    {
     "data": {
      "text/plain": [
       "0.6176470588235294"
      ]
     },
     "execution_count": 61,
     "metadata": {},
     "output_type": "execute_result"
    }
   ],
   "source": [
    "# Creating a KNN model\n",
    "knn_model = KNeighborsClassifier()\n",
    "\n",
    "# Creating a pipeline for the KNN model\n",
    "knn_pipeline = Pipeline(steps=[('preprocessor', preprocessor),\n",
    "                               ('classifier', knn_model)])\n",
    "\n",
    "# Fitting the pipeline to the training data\n",
    "knn_pipeline.fit(X_train, y_train)\n",
    "\n",
    "# Making predictions on the test set\n",
    "y_pred = knn_pipeline.predict(X_test)\n",
    "\n",
    "# Calculating the accuracy\n",
    "accuracy = accuracy_score(y_test, y_pred)\n",
    "\n",
    "# Displaying the accuracy\n",
    "accuracy"
   ]
  },
  {
   "cell_type": "markdown",
   "id": "6fcd549a-67d7-4cfc-9fb4-8a4d25a261d1",
   "metadata": {},
   "source": [
    "# Prediction"
   ]
  },
  {
   "cell_type": "code",
   "execution_count": 62,
   "id": "33d41222-c556-4411-8216-41b96437ff21",
   "metadata": {
    "tags": []
   },
   "outputs": [
    {
     "name": "stdout",
     "output_type": "stream",
     "text": [
      "<class 'pandas.core.frame.DataFrame'>\n",
      "RangeIndex: 166 entries, 0 to 165\n",
      "Data columns (total 18 columns):\n",
      " #   Column  Non-Null Count  Dtype \n",
      "---  ------  --------------  ----- \n",
      " 0   id_num  166 non-null    int64 \n",
      " 1   Q1      166 non-null    object\n",
      " 2   Q2      166 non-null    int64 \n",
      " 3   Q4      166 non-null    object\n",
      " 4   Q5      166 non-null    object\n",
      " 5   Q6      166 non-null    object\n",
      " 6   Q7      166 non-null    object\n",
      " 7   Q8      166 non-null    object\n",
      " 8   Q9      166 non-null    object\n",
      " 9   Q10     166 non-null    object\n",
      " 10  Q11     166 non-null    object\n",
      " 11  Q12     166 non-null    object\n",
      " 12  Q13     166 non-null    object\n",
      " 13  Q14     166 non-null    object\n",
      " 14  Q15     166 non-null    int64 \n",
      " 15  Q16     166 non-null    int64 \n",
      " 16  Q17     166 non-null    int64 \n",
      " 17  Q18     166 non-null    object\n",
      "dtypes: int64(5), object(13)\n",
      "memory usage: 23.5+ KB\n"
     ]
    }
   ],
   "source": [
    "test_data = pd.read_csv(\"/Users/ruojiakuang/Desktop/GSB S544 Computing and Machine Learning for Business Analytics/FInal Code/gsb-544-fall-2023-political-affiliations/CAH-201803-test.csv\")\n",
    "test_data.info()"
   ]
  },
  {
   "cell_type": "code",
   "execution_count": 63,
   "id": "83730307-dd57-4f6f-a496-928f63b6f4f8",
   "metadata": {
    "tags": []
   },
   "outputs": [],
   "source": [
    "# Clean the dataset\n",
    "test_data_cleaned = test_data.drop(columns=['id_num']).dropna()\n",
    "\n",
    "X_test = train_data_cleaned.drop('political_affiliation', axis=1)\n",
    "y_pred = knn_pipeline.predict(test_data_cleaned)"
   ]
  },
  {
   "cell_type": "code",
   "execution_count": 64,
   "id": "b58f71b0-458c-47db-8cad-c102e810768f",
   "metadata": {
    "tags": []
   },
   "outputs": [
    {
     "data": {
      "text/html": [
       "<div>\n",
       "<style scoped>\n",
       "    .dataframe tbody tr th:only-of-type {\n",
       "        vertical-align: middle;\n",
       "    }\n",
       "\n",
       "    .dataframe tbody tr th {\n",
       "        vertical-align: top;\n",
       "    }\n",
       "\n",
       "    .dataframe thead th {\n",
       "        text-align: right;\n",
       "    }\n",
       "</style>\n",
       "<table border=\"1\" class=\"dataframe\">\n",
       "  <thead>\n",
       "    <tr style=\"text-align: right;\">\n",
       "      <th></th>\n",
       "      <th>id_num</th>\n",
       "      <th>political_affiliation_predicted</th>\n",
       "    </tr>\n",
       "  </thead>\n",
       "  <tbody>\n",
       "    <tr>\n",
       "      <th>0</th>\n",
       "      <td>2</td>\n",
       "      <td>Republican</td>\n",
       "    </tr>\n",
       "    <tr>\n",
       "      <th>1</th>\n",
       "      <td>3</td>\n",
       "      <td>Independent</td>\n",
       "    </tr>\n",
       "    <tr>\n",
       "      <th>2</th>\n",
       "      <td>4</td>\n",
       "      <td>Republican</td>\n",
       "    </tr>\n",
       "    <tr>\n",
       "      <th>3</th>\n",
       "      <td>6</td>\n",
       "      <td>Independent</td>\n",
       "    </tr>\n",
       "    <tr>\n",
       "      <th>4</th>\n",
       "      <td>11</td>\n",
       "      <td>Independent</td>\n",
       "    </tr>\n",
       "  </tbody>\n",
       "</table>\n",
       "</div>"
      ],
      "text/plain": [
       "   id_num political_affiliation_predicted\n",
       "0       2                      Republican\n",
       "1       3                     Independent\n",
       "2       4                      Republican\n",
       "3       6                     Independent\n",
       "4      11                     Independent"
      ]
     },
     "execution_count": 64,
     "metadata": {},
     "output_type": "execute_result"
    }
   ],
   "source": [
    "# Creating a new DataFrame for submission with test data\n",
    "submission = pd.DataFrame()\n",
    "submission['id_num'] = test_data['id_num']\n",
    "submission['political_affiliation_predicted'] = y_pred\n",
    "\n",
    "# Displaying the submission DataFrame with test data\n",
    "submission.head()"
   ]
  },
  {
   "cell_type": "code",
   "execution_count": 65,
   "id": "58c50e6f-5429-4f35-b5a7-7f4c653db9a2",
   "metadata": {
    "tags": []
   },
   "outputs": [
    {
     "name": "stdout",
     "output_type": "stream",
     "text": [
      "<class 'pandas.core.frame.DataFrame'>\n",
      "RangeIndex: 166 entries, 0 to 165\n",
      "Data columns (total 2 columns):\n",
      " #   Column                           Non-Null Count  Dtype \n",
      "---  ------                           --------------  ----- \n",
      " 0   id_num                           166 non-null    int64 \n",
      " 1   political_affiliation_predicted  166 non-null    object\n",
      "dtypes: int64(1), object(1)\n",
      "memory usage: 2.7+ KB\n"
     ]
    }
   ],
   "source": [
    "submission.info()"
   ]
  },
  {
   "cell_type": "code",
   "execution_count": 66,
   "id": "07475cbd-7988-4ebd-9546-912d8f794749",
   "metadata": {
    "tags": []
   },
   "outputs": [],
   "source": [
    "submission.to_csv('submission2_2.csv', index=False)"
   ]
  }
 ],
 "metadata": {
  "kernelspec": {
   "display_name": "Python 3 (ipykernel)",
   "language": "python",
   "name": "python3"
  },
  "language_info": {
   "codemirror_mode": {
    "name": "ipython",
    "version": 3
   },
   "file_extension": ".py",
   "mimetype": "text/x-python",
   "name": "python",
   "nbconvert_exporter": "python",
   "pygments_lexer": "ipython3",
   "version": "3.11.4"
  }
 },
 "nbformat": 4,
 "nbformat_minor": 5
}
