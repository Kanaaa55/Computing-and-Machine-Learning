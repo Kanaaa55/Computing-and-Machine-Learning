{
 "cells": [
  {
   "cell_type": "markdown",
   "id": "9030df06-34de-4dc9-bcd6-cb45c23863f1",
   "metadata": {},
   "source": [
    "---\n",
    "self-contained: true\n",
    "title: \"GSB 544-Final-Regression\"\n",
    "author: \"Ruojia Kuang\"\n",
    "format:\n",
    "  html: \n",
    "    theme: cosmo\n",
    "---"
   ]
  },
  {
   "cell_type": "code",
   "execution_count": 129,
   "id": "ce52784b-4616-419f-823a-e163db600ed6",
   "metadata": {
    "tags": []
   },
   "outputs": [],
   "source": [
    "import pandas as pd\n",
    "import numpy as np\n",
    "from sklearn.compose import make_column_selector, ColumnTransformer\n",
    "from sklearn.preprocessing import StandardScaler, OneHotEncoder\n",
    "from sklearn.pipeline import Pipeline\n",
    "from sklearn.linear_model import LinearRegression, Ridge, Lasso, ElasticNet \n",
    "from sklearn.model_selection import train_test_split, cross_val_score\n",
    "from sklearn.model_selection import GridSearchCV\n",
    "from sklearn.metrics import mean_squared_error"
   ]
  },
  {
   "cell_type": "code",
   "execution_count": 17,
   "id": "513fceb2-2258-4e80-b098-5c1afa86abfa",
   "metadata": {
    "tags": []
   },
   "outputs": [
    {
     "data": {
      "text/html": [
       "<div>\n",
       "<style scoped>\n",
       "    .dataframe tbody tr th:only-of-type {\n",
       "        vertical-align: middle;\n",
       "    }\n",
       "\n",
       "    .dataframe tbody tr th {\n",
       "        vertical-align: top;\n",
       "    }\n",
       "\n",
       "    .dataframe thead th {\n",
       "        text-align: right;\n",
       "    }\n",
       "</style>\n",
       "<table border=\"1\" class=\"dataframe\">\n",
       "  <thead>\n",
       "    <tr style=\"text-align: right;\">\n",
       "      <th></th>\n",
       "      <th>SalePrice</th>\n",
       "      <th>PID</th>\n",
       "      <th>Lot Frontage</th>\n",
       "      <th>Lot Area</th>\n",
       "      <th>Street</th>\n",
       "      <th>Neighborhood</th>\n",
       "      <th>Bldg Type</th>\n",
       "      <th>House Style</th>\n",
       "      <th>Overall Qual</th>\n",
       "      <th>Overall Cond</th>\n",
       "      <th>...</th>\n",
       "      <th>Full Bath</th>\n",
       "      <th>Half Bath</th>\n",
       "      <th>Bedroom AbvGr</th>\n",
       "      <th>TotRms AbvGrd</th>\n",
       "      <th>Gr Liv Area</th>\n",
       "      <th>Functional</th>\n",
       "      <th>Screen Porch</th>\n",
       "      <th>Pool Area</th>\n",
       "      <th>Yr Sold</th>\n",
       "      <th>Sale Type</th>\n",
       "    </tr>\n",
       "  </thead>\n",
       "  <tbody>\n",
       "    <tr>\n",
       "      <th>0</th>\n",
       "      <td>159000</td>\n",
       "      <td>531363010</td>\n",
       "      <td>80.0</td>\n",
       "      <td>9605</td>\n",
       "      <td>Pave</td>\n",
       "      <td>SawyerW</td>\n",
       "      <td>1Fam</td>\n",
       "      <td>1Story</td>\n",
       "      <td>7</td>\n",
       "      <td>6</td>\n",
       "      <td>...</td>\n",
       "      <td>1</td>\n",
       "      <td>1</td>\n",
       "      <td>3</td>\n",
       "      <td>6</td>\n",
       "      <td>1218</td>\n",
       "      <td>Typ</td>\n",
       "      <td>0</td>\n",
       "      <td>0</td>\n",
       "      <td>2009</td>\n",
       "      <td>WD</td>\n",
       "    </tr>\n",
       "    <tr>\n",
       "      <th>1</th>\n",
       "      <td>271900</td>\n",
       "      <td>906203120</td>\n",
       "      <td>90.0</td>\n",
       "      <td>14684</td>\n",
       "      <td>Pave</td>\n",
       "      <td>SawyerW</td>\n",
       "      <td>1Fam</td>\n",
       "      <td>1Story</td>\n",
       "      <td>7</td>\n",
       "      <td>7</td>\n",
       "      <td>...</td>\n",
       "      <td>2</td>\n",
       "      <td>0</td>\n",
       "      <td>3</td>\n",
       "      <td>7</td>\n",
       "      <td>2196</td>\n",
       "      <td>Typ</td>\n",
       "      <td>0</td>\n",
       "      <td>0</td>\n",
       "      <td>2009</td>\n",
       "      <td>WD</td>\n",
       "    </tr>\n",
       "    <tr>\n",
       "      <th>2</th>\n",
       "      <td>137500</td>\n",
       "      <td>916176030</td>\n",
       "      <td>NaN</td>\n",
       "      <td>14375</td>\n",
       "      <td>Pave</td>\n",
       "      <td>Timber</td>\n",
       "      <td>1Fam</td>\n",
       "      <td>SLvl</td>\n",
       "      <td>6</td>\n",
       "      <td>6</td>\n",
       "      <td>...</td>\n",
       "      <td>1</td>\n",
       "      <td>0</td>\n",
       "      <td>3</td>\n",
       "      <td>7</td>\n",
       "      <td>1344</td>\n",
       "      <td>Typ</td>\n",
       "      <td>233</td>\n",
       "      <td>0</td>\n",
       "      <td>2009</td>\n",
       "      <td>COD</td>\n",
       "    </tr>\n",
       "    <tr>\n",
       "      <th>3</th>\n",
       "      <td>248500</td>\n",
       "      <td>528180130</td>\n",
       "      <td>48.0</td>\n",
       "      <td>6472</td>\n",
       "      <td>Pave</td>\n",
       "      <td>NridgHt</td>\n",
       "      <td>TwnhsE</td>\n",
       "      <td>1Story</td>\n",
       "      <td>9</td>\n",
       "      <td>5</td>\n",
       "      <td>...</td>\n",
       "      <td>2</td>\n",
       "      <td>0</td>\n",
       "      <td>2</td>\n",
       "      <td>6</td>\n",
       "      <td>1456</td>\n",
       "      <td>Typ</td>\n",
       "      <td>0</td>\n",
       "      <td>0</td>\n",
       "      <td>2009</td>\n",
       "      <td>WD</td>\n",
       "    </tr>\n",
       "    <tr>\n",
       "      <th>4</th>\n",
       "      <td>167000</td>\n",
       "      <td>528290030</td>\n",
       "      <td>61.0</td>\n",
       "      <td>9734</td>\n",
       "      <td>Pave</td>\n",
       "      <td>Gilbert</td>\n",
       "      <td>1Fam</td>\n",
       "      <td>SLvl</td>\n",
       "      <td>7</td>\n",
       "      <td>5</td>\n",
       "      <td>...</td>\n",
       "      <td>2</td>\n",
       "      <td>1</td>\n",
       "      <td>3</td>\n",
       "      <td>7</td>\n",
       "      <td>1374</td>\n",
       "      <td>Typ</td>\n",
       "      <td>0</td>\n",
       "      <td>0</td>\n",
       "      <td>2009</td>\n",
       "      <td>WD</td>\n",
       "    </tr>\n",
       "  </tbody>\n",
       "</table>\n",
       "<p>5 rows × 25 columns</p>\n",
       "</div>"
      ],
      "text/plain": [
       "   SalePrice        PID  Lot Frontage  Lot Area Street Neighborhood Bldg Type  \\\n",
       "0     159000  531363010          80.0      9605   Pave      SawyerW      1Fam   \n",
       "1     271900  906203120          90.0     14684   Pave      SawyerW      1Fam   \n",
       "2     137500  916176030           NaN     14375   Pave       Timber      1Fam   \n",
       "3     248500  528180130          48.0      6472   Pave      NridgHt    TwnhsE   \n",
       "4     167000  528290030          61.0      9734   Pave      Gilbert      1Fam   \n",
       "\n",
       "  House Style  Overall Qual  Overall Cond  ...  Full Bath Half Bath  \\\n",
       "0      1Story             7             6  ...          1         1   \n",
       "1      1Story             7             7  ...          2         0   \n",
       "2        SLvl             6             6  ...          1         0   \n",
       "3      1Story             9             5  ...          2         0   \n",
       "4        SLvl             7             5  ...          2         1   \n",
       "\n",
       "  Bedroom AbvGr TotRms AbvGrd Gr Liv Area  Functional  Screen Porch  \\\n",
       "0             3             6        1218         Typ             0   \n",
       "1             3             7        2196         Typ             0   \n",
       "2             3             7        1344         Typ           233   \n",
       "3             2             6        1456         Typ             0   \n",
       "4             3             7        1374         Typ             0   \n",
       "\n",
       "   Pool Area  Yr Sold  Sale Type  \n",
       "0          0     2009         WD  \n",
       "1          0     2009         WD  \n",
       "2          0     2009        COD  \n",
       "3          0     2009         WD  \n",
       "4          0     2009         WD  \n",
       "\n",
       "[5 rows x 25 columns]"
      ]
     },
     "execution_count": 17,
     "metadata": {},
     "output_type": "execute_result"
    }
   ],
   "source": [
    "train_data = pd.read_csv('/Users/ruojiakuang/Desktop/GSB S544 Computing and Machine Learning for Business Analytics/FInal Code/gsb-544-fall-2023-house-prices/train_new.csv')\n",
    "train_data.head()"
   ]
  },
  {
   "cell_type": "code",
   "execution_count": 18,
   "id": "ce668c30-d949-40d2-89e1-c3723dd2f98e",
   "metadata": {
    "tags": []
   },
   "outputs": [
    {
     "data": {
      "text/plain": [
       "SalePrice          int64\n",
       "PID                int64\n",
       "Lot Frontage     float64\n",
       "Lot Area           int64\n",
       "Street            object\n",
       "Neighborhood      object\n",
       "Bldg Type         object\n",
       "House Style       object\n",
       "Overall Qual       int64\n",
       "Overall Cond       int64\n",
       "Year Built         int64\n",
       "Roof Style        object\n",
       "Heating           object\n",
       "Central Air       object\n",
       "Electrical        object\n",
       "Full Bath          int64\n",
       "Half Bath          int64\n",
       "Bedroom AbvGr      int64\n",
       "TotRms AbvGrd      int64\n",
       "Gr Liv Area        int64\n",
       "Functional        object\n",
       "Screen Porch       int64\n",
       "Pool Area          int64\n",
       "Yr Sold            int64\n",
       "Sale Type         object\n",
       "dtype: object"
      ]
     },
     "execution_count": 18,
     "metadata": {},
     "output_type": "execute_result"
    }
   ],
   "source": [
    "train_data.dtypes"
   ]
  },
  {
   "cell_type": "code",
   "execution_count": 47,
   "id": "e31a792e-aa85-4ea3-8ab6-d31144efad11",
   "metadata": {
    "tags": []
   },
   "outputs": [
    {
     "name": "stdout",
     "output_type": "stream",
     "text": [
      "<class 'pandas.core.frame.DataFrame'>\n",
      "Int64Index: 1835 entries, 0 to 2196\n",
      "Data columns (total 25 columns):\n",
      " #   Column         Non-Null Count  Dtype  \n",
      "---  ------         --------------  -----  \n",
      " 0   SalePrice      1835 non-null   int64  \n",
      " 1   PID            1835 non-null   int64  \n",
      " 2   Lot Frontage   1835 non-null   float64\n",
      " 3   Lot Area       1835 non-null   int64  \n",
      " 4   Street         1835 non-null   object \n",
      " 5   Neighborhood   1835 non-null   object \n",
      " 6   Bldg Type      1835 non-null   object \n",
      " 7   House Style    1835 non-null   object \n",
      " 8   Overall Qual   1835 non-null   int64  \n",
      " 9   Overall Cond   1835 non-null   int64  \n",
      " 10  Year Built     1835 non-null   int64  \n",
      " 11  Roof Style     1835 non-null   object \n",
      " 12  Heating        1835 non-null   object \n",
      " 13  Central Air    1835 non-null   object \n",
      " 14  Electrical     1834 non-null   object \n",
      " 15  Full Bath      1835 non-null   int64  \n",
      " 16  Half Bath      1835 non-null   int64  \n",
      " 17  Bedroom AbvGr  1835 non-null   int64  \n",
      " 18  TotRms AbvGrd  1835 non-null   int64  \n",
      " 19  Gr Liv Area    1835 non-null   int64  \n",
      " 20  Functional     1835 non-null   object \n",
      " 21  Screen Porch   1835 non-null   int64  \n",
      " 22  Pool Area      1835 non-null   int64  \n",
      " 23  Yr Sold        1835 non-null   int64  \n",
      " 24  Sale Type      1835 non-null   object \n",
      "dtypes: float64(1), int64(14), object(10)\n",
      "memory usage: 372.7+ KB\n"
     ]
    }
   ],
   "source": [
    "# Clean the dataset\n",
    "train_data_cleaned = train_data.drop('PID', axis=1, errors='ignore')\n",
    "train_data_cleaned = train_data.dropna(subset=['Lot Frontage'])\n",
    "train_data_cleaned.info()"
   ]
  },
  {
   "cell_type": "code",
   "execution_count": 48,
   "id": "9ce6f500-3d81-47e3-a5ca-c5be37e68803",
   "metadata": {
    "tags": []
   },
   "outputs": [
    {
     "data": {
      "text/plain": [
       "(['Neighborhood', 'Central Air'],\n",
       " ['Lot Frontage',\n",
       "  'Lot Area',\n",
       "  'Overall Qual',\n",
       "  'Overall Cond',\n",
       "  'Year Built',\n",
       "  'Gr Liv Area',\n",
       "  'Full Bath',\n",
       "  'TotRms AbvGrd',\n",
       "  'Pool Area',\n",
       "  'Yr Sold'])"
      ]
     },
     "execution_count": 48,
     "metadata": {},
     "output_type": "execute_result"
    }
   ],
   "source": [
    "# Define predictors and target variables\n",
    "X = train_data_cleaned[['Lot Frontage', 'Lot Area', 'Neighborhood', 'Overall Qual', 'Overall Cond', 'Year Built', 'Gr Liv Area', 'Full Bath', 'TotRms AbvGrd', 'Central Air', 'Pool Area', 'Yr Sold']]\n",
    "y = np.log(train_data_cleaned['SalePrice'])\n",
    "\n",
    "# Identifying categorical and numerical columns in the cleaned data\n",
    "categorical_columns = X.select_dtypes(include=['object']).columns.tolist()\n",
    "numerical_columns = X.select_dtypes(include=['number']).columns.tolist()\n",
    "\n",
    "categorical_columns, numerical_columns"
   ]
  },
  {
   "cell_type": "markdown",
   "id": "30bbed35-4207-4ebd-a715-4a80ec3de7ac",
   "metadata": {},
   "source": [
    "# Preprocessing"
   ]
  },
  {
   "cell_type": "code",
   "execution_count": 49,
   "id": "818d127b-6d91-4fc3-86b5-486ad5ebe5d1",
   "metadata": {
    "tags": []
   },
   "outputs": [
    {
     "data": {
      "text/html": [
       "<style>#sk-container-id-9 {color: black;}#sk-container-id-9 pre{padding: 0;}#sk-container-id-9 div.sk-toggleable {background-color: white;}#sk-container-id-9 label.sk-toggleable__label {cursor: pointer;display: block;width: 100%;margin-bottom: 0;padding: 0.3em;box-sizing: border-box;text-align: center;}#sk-container-id-9 label.sk-toggleable__label-arrow:before {content: \"▸\";float: left;margin-right: 0.25em;color: #696969;}#sk-container-id-9 label.sk-toggleable__label-arrow:hover:before {color: black;}#sk-container-id-9 div.sk-estimator:hover label.sk-toggleable__label-arrow:before {color: black;}#sk-container-id-9 div.sk-toggleable__content {max-height: 0;max-width: 0;overflow: hidden;text-align: left;background-color: #f0f8ff;}#sk-container-id-9 div.sk-toggleable__content pre {margin: 0.2em;color: black;border-radius: 0.25em;background-color: #f0f8ff;}#sk-container-id-9 input.sk-toggleable__control:checked~div.sk-toggleable__content {max-height: 200px;max-width: 100%;overflow: auto;}#sk-container-id-9 input.sk-toggleable__control:checked~label.sk-toggleable__label-arrow:before {content: \"▾\";}#sk-container-id-9 div.sk-estimator input.sk-toggleable__control:checked~label.sk-toggleable__label {background-color: #d4ebff;}#sk-container-id-9 div.sk-label input.sk-toggleable__control:checked~label.sk-toggleable__label {background-color: #d4ebff;}#sk-container-id-9 input.sk-hidden--visually {border: 0;clip: rect(1px 1px 1px 1px);clip: rect(1px, 1px, 1px, 1px);height: 1px;margin: -1px;overflow: hidden;padding: 0;position: absolute;width: 1px;}#sk-container-id-9 div.sk-estimator {font-family: monospace;background-color: #f0f8ff;border: 1px dotted black;border-radius: 0.25em;box-sizing: border-box;margin-bottom: 0.5em;}#sk-container-id-9 div.sk-estimator:hover {background-color: #d4ebff;}#sk-container-id-9 div.sk-parallel-item::after {content: \"\";width: 100%;border-bottom: 1px solid gray;flex-grow: 1;}#sk-container-id-9 div.sk-label:hover label.sk-toggleable__label {background-color: #d4ebff;}#sk-container-id-9 div.sk-serial::before {content: \"\";position: absolute;border-left: 1px solid gray;box-sizing: border-box;top: 0;bottom: 0;left: 50%;z-index: 0;}#sk-container-id-9 div.sk-serial {display: flex;flex-direction: column;align-items: center;background-color: white;padding-right: 0.2em;padding-left: 0.2em;position: relative;}#sk-container-id-9 div.sk-item {position: relative;z-index: 1;}#sk-container-id-9 div.sk-parallel {display: flex;align-items: stretch;justify-content: center;background-color: white;position: relative;}#sk-container-id-9 div.sk-item::before, #sk-container-id-9 div.sk-parallel-item::before {content: \"\";position: absolute;border-left: 1px solid gray;box-sizing: border-box;top: 0;bottom: 0;left: 50%;z-index: -1;}#sk-container-id-9 div.sk-parallel-item {display: flex;flex-direction: column;z-index: 1;position: relative;background-color: white;}#sk-container-id-9 div.sk-parallel-item:first-child::after {align-self: flex-end;width: 50%;}#sk-container-id-9 div.sk-parallel-item:last-child::after {align-self: flex-start;width: 50%;}#sk-container-id-9 div.sk-parallel-item:only-child::after {width: 0;}#sk-container-id-9 div.sk-dashed-wrapped {border: 1px dashed gray;margin: 0 0.4em 0.5em 0.4em;box-sizing: border-box;padding-bottom: 0.4em;background-color: white;}#sk-container-id-9 div.sk-label label {font-family: monospace;font-weight: bold;display: inline-block;line-height: 1.2em;}#sk-container-id-9 div.sk-label-container {text-align: center;}#sk-container-id-9 div.sk-container {/* jupyter's `normalize.less` sets `[hidden] { display: none; }` but bootstrap.min.css set `[hidden] { display: none !important; }` so we also need the `!important` here to be able to override the default hidden behavior on the sphinx rendered scikit-learn.org. See: https://github.com/scikit-learn/scikit-learn/issues/21755 */display: inline-block !important;position: relative;}#sk-container-id-9 div.sk-text-repr-fallback {display: none;}</style><div id=\"sk-container-id-9\" class=\"sk-top-container\"><div class=\"sk-text-repr-fallback\"><pre>ColumnTransformer(transformers=[(&#x27;standardize&#x27;, StandardScaler(),\n",
       "                                 [&#x27;Lot Frontage&#x27;, &#x27;Lot Area&#x27;, &#x27;Overall Qual&#x27;,\n",
       "                                  &#x27;Overall Cond&#x27;, &#x27;Year Built&#x27;, &#x27;Gr Liv Area&#x27;,\n",
       "                                  &#x27;Full Bath&#x27;, &#x27;TotRms AbvGrd&#x27;, &#x27;Pool Area&#x27;,\n",
       "                                  &#x27;Yr Sold&#x27;]),\n",
       "                                (&#x27;dummify&#x27;, OneHotEncoder(sparse_output=False),\n",
       "                                 [&#x27;Neighborhood&#x27;, &#x27;Central Air&#x27;])])</pre><b>In a Jupyter environment, please rerun this cell to show the HTML representation or trust the notebook. <br />On GitHub, the HTML representation is unable to render, please try loading this page with nbviewer.org.</b></div><div class=\"sk-container\" hidden><div class=\"sk-item sk-dashed-wrapped\"><div class=\"sk-label-container\"><div class=\"sk-label sk-toggleable\"><input class=\"sk-toggleable__control sk-hidden--visually\" id=\"sk-estimator-id-49\" type=\"checkbox\" ><label for=\"sk-estimator-id-49\" class=\"sk-toggleable__label sk-toggleable__label-arrow\">ColumnTransformer</label><div class=\"sk-toggleable__content\"><pre>ColumnTransformer(transformers=[(&#x27;standardize&#x27;, StandardScaler(),\n",
       "                                 [&#x27;Lot Frontage&#x27;, &#x27;Lot Area&#x27;, &#x27;Overall Qual&#x27;,\n",
       "                                  &#x27;Overall Cond&#x27;, &#x27;Year Built&#x27;, &#x27;Gr Liv Area&#x27;,\n",
       "                                  &#x27;Full Bath&#x27;, &#x27;TotRms AbvGrd&#x27;, &#x27;Pool Area&#x27;,\n",
       "                                  &#x27;Yr Sold&#x27;]),\n",
       "                                (&#x27;dummify&#x27;, OneHotEncoder(sparse_output=False),\n",
       "                                 [&#x27;Neighborhood&#x27;, &#x27;Central Air&#x27;])])</pre></div></div></div><div class=\"sk-parallel\"><div class=\"sk-parallel-item\"><div class=\"sk-item\"><div class=\"sk-label-container\"><div class=\"sk-label sk-toggleable\"><input class=\"sk-toggleable__control sk-hidden--visually\" id=\"sk-estimator-id-50\" type=\"checkbox\" ><label for=\"sk-estimator-id-50\" class=\"sk-toggleable__label sk-toggleable__label-arrow\">standardize</label><div class=\"sk-toggleable__content\"><pre>[&#x27;Lot Frontage&#x27;, &#x27;Lot Area&#x27;, &#x27;Overall Qual&#x27;, &#x27;Overall Cond&#x27;, &#x27;Year Built&#x27;, &#x27;Gr Liv Area&#x27;, &#x27;Full Bath&#x27;, &#x27;TotRms AbvGrd&#x27;, &#x27;Pool Area&#x27;, &#x27;Yr Sold&#x27;]</pre></div></div></div><div class=\"sk-serial\"><div class=\"sk-item\"><div class=\"sk-estimator sk-toggleable\"><input class=\"sk-toggleable__control sk-hidden--visually\" id=\"sk-estimator-id-51\" type=\"checkbox\" ><label for=\"sk-estimator-id-51\" class=\"sk-toggleable__label sk-toggleable__label-arrow\">StandardScaler</label><div class=\"sk-toggleable__content\"><pre>StandardScaler()</pre></div></div></div></div></div></div><div class=\"sk-parallel-item\"><div class=\"sk-item\"><div class=\"sk-label-container\"><div class=\"sk-label sk-toggleable\"><input class=\"sk-toggleable__control sk-hidden--visually\" id=\"sk-estimator-id-52\" type=\"checkbox\" ><label for=\"sk-estimator-id-52\" class=\"sk-toggleable__label sk-toggleable__label-arrow\">dummify</label><div class=\"sk-toggleable__content\"><pre>[&#x27;Neighborhood&#x27;, &#x27;Central Air&#x27;]</pre></div></div></div><div class=\"sk-serial\"><div class=\"sk-item\"><div class=\"sk-estimator sk-toggleable\"><input class=\"sk-toggleable__control sk-hidden--visually\" id=\"sk-estimator-id-53\" type=\"checkbox\" ><label for=\"sk-estimator-id-53\" class=\"sk-toggleable__label sk-toggleable__label-arrow\">OneHotEncoder</label><div class=\"sk-toggleable__content\"><pre>OneHotEncoder(sparse_output=False)</pre></div></div></div></div></div></div></div></div></div></div>"
      ],
      "text/plain": [
       "ColumnTransformer(transformers=[('standardize', StandardScaler(),\n",
       "                                 ['Lot Frontage', 'Lot Area', 'Overall Qual',\n",
       "                                  'Overall Cond', 'Year Built', 'Gr Liv Area',\n",
       "                                  'Full Bath', 'TotRms AbvGrd', 'Pool Area',\n",
       "                                  'Yr Sold']),\n",
       "                                ('dummify', OneHotEncoder(sparse_output=False),\n",
       "                                 ['Neighborhood', 'Central Air'])])"
      ]
     },
     "execution_count": 49,
     "metadata": {},
     "output_type": "execute_result"
    }
   ],
   "source": [
    "preprocessor = ColumnTransformer(\n",
    "    transformers=[\n",
    "        (\"standardize\", StandardScaler(), numerical_columns),\n",
    "        (\"dummify\", OneHotEncoder(sparse_output=False), categorical_columns)\n",
    "    ],\n",
    "     remainder = \"drop\"\n",
    ")\n",
    "preprocessor"
   ]
  },
  {
   "cell_type": "markdown",
   "id": "e2bed1d3-01f8-4891-9be3-ecb0f4a27435",
   "metadata": {},
   "source": [
    "# Linear Regression"
   ]
  },
  {
   "cell_type": "code",
   "execution_count": 50,
   "id": "748c36c2-01c1-4ae2-b9f0-77eeb8c19e9a",
   "metadata": {
    "tags": []
   },
   "outputs": [
    {
     "data": {
      "text/html": [
       "<style>#sk-container-id-10 {color: black;}#sk-container-id-10 pre{padding: 0;}#sk-container-id-10 div.sk-toggleable {background-color: white;}#sk-container-id-10 label.sk-toggleable__label {cursor: pointer;display: block;width: 100%;margin-bottom: 0;padding: 0.3em;box-sizing: border-box;text-align: center;}#sk-container-id-10 label.sk-toggleable__label-arrow:before {content: \"▸\";float: left;margin-right: 0.25em;color: #696969;}#sk-container-id-10 label.sk-toggleable__label-arrow:hover:before {color: black;}#sk-container-id-10 div.sk-estimator:hover label.sk-toggleable__label-arrow:before {color: black;}#sk-container-id-10 div.sk-toggleable__content {max-height: 0;max-width: 0;overflow: hidden;text-align: left;background-color: #f0f8ff;}#sk-container-id-10 div.sk-toggleable__content pre {margin: 0.2em;color: black;border-radius: 0.25em;background-color: #f0f8ff;}#sk-container-id-10 input.sk-toggleable__control:checked~div.sk-toggleable__content {max-height: 200px;max-width: 100%;overflow: auto;}#sk-container-id-10 input.sk-toggleable__control:checked~label.sk-toggleable__label-arrow:before {content: \"▾\";}#sk-container-id-10 div.sk-estimator input.sk-toggleable__control:checked~label.sk-toggleable__label {background-color: #d4ebff;}#sk-container-id-10 div.sk-label input.sk-toggleable__control:checked~label.sk-toggleable__label {background-color: #d4ebff;}#sk-container-id-10 input.sk-hidden--visually {border: 0;clip: rect(1px 1px 1px 1px);clip: rect(1px, 1px, 1px, 1px);height: 1px;margin: -1px;overflow: hidden;padding: 0;position: absolute;width: 1px;}#sk-container-id-10 div.sk-estimator {font-family: monospace;background-color: #f0f8ff;border: 1px dotted black;border-radius: 0.25em;box-sizing: border-box;margin-bottom: 0.5em;}#sk-container-id-10 div.sk-estimator:hover {background-color: #d4ebff;}#sk-container-id-10 div.sk-parallel-item::after {content: \"\";width: 100%;border-bottom: 1px solid gray;flex-grow: 1;}#sk-container-id-10 div.sk-label:hover label.sk-toggleable__label {background-color: #d4ebff;}#sk-container-id-10 div.sk-serial::before {content: \"\";position: absolute;border-left: 1px solid gray;box-sizing: border-box;top: 0;bottom: 0;left: 50%;z-index: 0;}#sk-container-id-10 div.sk-serial {display: flex;flex-direction: column;align-items: center;background-color: white;padding-right: 0.2em;padding-left: 0.2em;position: relative;}#sk-container-id-10 div.sk-item {position: relative;z-index: 1;}#sk-container-id-10 div.sk-parallel {display: flex;align-items: stretch;justify-content: center;background-color: white;position: relative;}#sk-container-id-10 div.sk-item::before, #sk-container-id-10 div.sk-parallel-item::before {content: \"\";position: absolute;border-left: 1px solid gray;box-sizing: border-box;top: 0;bottom: 0;left: 50%;z-index: -1;}#sk-container-id-10 div.sk-parallel-item {display: flex;flex-direction: column;z-index: 1;position: relative;background-color: white;}#sk-container-id-10 div.sk-parallel-item:first-child::after {align-self: flex-end;width: 50%;}#sk-container-id-10 div.sk-parallel-item:last-child::after {align-self: flex-start;width: 50%;}#sk-container-id-10 div.sk-parallel-item:only-child::after {width: 0;}#sk-container-id-10 div.sk-dashed-wrapped {border: 1px dashed gray;margin: 0 0.4em 0.5em 0.4em;box-sizing: border-box;padding-bottom: 0.4em;background-color: white;}#sk-container-id-10 div.sk-label label {font-family: monospace;font-weight: bold;display: inline-block;line-height: 1.2em;}#sk-container-id-10 div.sk-label-container {text-align: center;}#sk-container-id-10 div.sk-container {/* jupyter's `normalize.less` sets `[hidden] { display: none; }` but bootstrap.min.css set `[hidden] { display: none !important; }` so we also need the `!important` here to be able to override the default hidden behavior on the sphinx rendered scikit-learn.org. See: https://github.com/scikit-learn/scikit-learn/issues/21755 */display: inline-block !important;position: relative;}#sk-container-id-10 div.sk-text-repr-fallback {display: none;}</style><div id=\"sk-container-id-10\" class=\"sk-top-container\"><div class=\"sk-text-repr-fallback\"><pre>Pipeline(steps=[(&#x27;preprocessor&#x27;,\n",
       "                 ColumnTransformer(transformers=[(&#x27;standardize&#x27;,\n",
       "                                                  StandardScaler(),\n",
       "                                                  [&#x27;Lot Frontage&#x27;, &#x27;Lot Area&#x27;,\n",
       "                                                   &#x27;Overall Qual&#x27;,\n",
       "                                                   &#x27;Overall Cond&#x27;, &#x27;Year Built&#x27;,\n",
       "                                                   &#x27;Gr Liv Area&#x27;, &#x27;Full Bath&#x27;,\n",
       "                                                   &#x27;TotRms AbvGrd&#x27;, &#x27;Pool Area&#x27;,\n",
       "                                                   &#x27;Yr Sold&#x27;]),\n",
       "                                                 (&#x27;dummify&#x27;,\n",
       "                                                  OneHotEncoder(sparse_output=False),\n",
       "                                                  [&#x27;Neighborhood&#x27;,\n",
       "                                                   &#x27;Central Air&#x27;])])),\n",
       "                (&#x27;linear_regression&#x27;, LinearRegression())])</pre><b>In a Jupyter environment, please rerun this cell to show the HTML representation or trust the notebook. <br />On GitHub, the HTML representation is unable to render, please try loading this page with nbviewer.org.</b></div><div class=\"sk-container\" hidden><div class=\"sk-item sk-dashed-wrapped\"><div class=\"sk-label-container\"><div class=\"sk-label sk-toggleable\"><input class=\"sk-toggleable__control sk-hidden--visually\" id=\"sk-estimator-id-54\" type=\"checkbox\" ><label for=\"sk-estimator-id-54\" class=\"sk-toggleable__label sk-toggleable__label-arrow\">Pipeline</label><div class=\"sk-toggleable__content\"><pre>Pipeline(steps=[(&#x27;preprocessor&#x27;,\n",
       "                 ColumnTransformer(transformers=[(&#x27;standardize&#x27;,\n",
       "                                                  StandardScaler(),\n",
       "                                                  [&#x27;Lot Frontage&#x27;, &#x27;Lot Area&#x27;,\n",
       "                                                   &#x27;Overall Qual&#x27;,\n",
       "                                                   &#x27;Overall Cond&#x27;, &#x27;Year Built&#x27;,\n",
       "                                                   &#x27;Gr Liv Area&#x27;, &#x27;Full Bath&#x27;,\n",
       "                                                   &#x27;TotRms AbvGrd&#x27;, &#x27;Pool Area&#x27;,\n",
       "                                                   &#x27;Yr Sold&#x27;]),\n",
       "                                                 (&#x27;dummify&#x27;,\n",
       "                                                  OneHotEncoder(sparse_output=False),\n",
       "                                                  [&#x27;Neighborhood&#x27;,\n",
       "                                                   &#x27;Central Air&#x27;])])),\n",
       "                (&#x27;linear_regression&#x27;, LinearRegression())])</pre></div></div></div><div class=\"sk-serial\"><div class=\"sk-item sk-dashed-wrapped\"><div class=\"sk-label-container\"><div class=\"sk-label sk-toggleable\"><input class=\"sk-toggleable__control sk-hidden--visually\" id=\"sk-estimator-id-55\" type=\"checkbox\" ><label for=\"sk-estimator-id-55\" class=\"sk-toggleable__label sk-toggleable__label-arrow\">preprocessor: ColumnTransformer</label><div class=\"sk-toggleable__content\"><pre>ColumnTransformer(transformers=[(&#x27;standardize&#x27;, StandardScaler(),\n",
       "                                 [&#x27;Lot Frontage&#x27;, &#x27;Lot Area&#x27;, &#x27;Overall Qual&#x27;,\n",
       "                                  &#x27;Overall Cond&#x27;, &#x27;Year Built&#x27;, &#x27;Gr Liv Area&#x27;,\n",
       "                                  &#x27;Full Bath&#x27;, &#x27;TotRms AbvGrd&#x27;, &#x27;Pool Area&#x27;,\n",
       "                                  &#x27;Yr Sold&#x27;]),\n",
       "                                (&#x27;dummify&#x27;, OneHotEncoder(sparse_output=False),\n",
       "                                 [&#x27;Neighborhood&#x27;, &#x27;Central Air&#x27;])])</pre></div></div></div><div class=\"sk-parallel\"><div class=\"sk-parallel-item\"><div class=\"sk-item\"><div class=\"sk-label-container\"><div class=\"sk-label sk-toggleable\"><input class=\"sk-toggleable__control sk-hidden--visually\" id=\"sk-estimator-id-56\" type=\"checkbox\" ><label for=\"sk-estimator-id-56\" class=\"sk-toggleable__label sk-toggleable__label-arrow\">standardize</label><div class=\"sk-toggleable__content\"><pre>[&#x27;Lot Frontage&#x27;, &#x27;Lot Area&#x27;, &#x27;Overall Qual&#x27;, &#x27;Overall Cond&#x27;, &#x27;Year Built&#x27;, &#x27;Gr Liv Area&#x27;, &#x27;Full Bath&#x27;, &#x27;TotRms AbvGrd&#x27;, &#x27;Pool Area&#x27;, &#x27;Yr Sold&#x27;]</pre></div></div></div><div class=\"sk-serial\"><div class=\"sk-item\"><div class=\"sk-estimator sk-toggleable\"><input class=\"sk-toggleable__control sk-hidden--visually\" id=\"sk-estimator-id-57\" type=\"checkbox\" ><label for=\"sk-estimator-id-57\" class=\"sk-toggleable__label sk-toggleable__label-arrow\">StandardScaler</label><div class=\"sk-toggleable__content\"><pre>StandardScaler()</pre></div></div></div></div></div></div><div class=\"sk-parallel-item\"><div class=\"sk-item\"><div class=\"sk-label-container\"><div class=\"sk-label sk-toggleable\"><input class=\"sk-toggleable__control sk-hidden--visually\" id=\"sk-estimator-id-58\" type=\"checkbox\" ><label for=\"sk-estimator-id-58\" class=\"sk-toggleable__label sk-toggleable__label-arrow\">dummify</label><div class=\"sk-toggleable__content\"><pre>[&#x27;Neighborhood&#x27;, &#x27;Central Air&#x27;]</pre></div></div></div><div class=\"sk-serial\"><div class=\"sk-item\"><div class=\"sk-estimator sk-toggleable\"><input class=\"sk-toggleable__control sk-hidden--visually\" id=\"sk-estimator-id-59\" type=\"checkbox\" ><label for=\"sk-estimator-id-59\" class=\"sk-toggleable__label sk-toggleable__label-arrow\">OneHotEncoder</label><div class=\"sk-toggleable__content\"><pre>OneHotEncoder(sparse_output=False)</pre></div></div></div></div></div></div></div></div><div class=\"sk-item\"><div class=\"sk-estimator sk-toggleable\"><input class=\"sk-toggleable__control sk-hidden--visually\" id=\"sk-estimator-id-60\" type=\"checkbox\" ><label for=\"sk-estimator-id-60\" class=\"sk-toggleable__label sk-toggleable__label-arrow\">LinearRegression</label><div class=\"sk-toggleable__content\"><pre>LinearRegression()</pre></div></div></div></div></div></div></div>"
      ],
      "text/plain": [
       "Pipeline(steps=[('preprocessor',\n",
       "                 ColumnTransformer(transformers=[('standardize',\n",
       "                                                  StandardScaler(),\n",
       "                                                  ['Lot Frontage', 'Lot Area',\n",
       "                                                   'Overall Qual',\n",
       "                                                   'Overall Cond', 'Year Built',\n",
       "                                                   'Gr Liv Area', 'Full Bath',\n",
       "                                                   'TotRms AbvGrd', 'Pool Area',\n",
       "                                                   'Yr Sold']),\n",
       "                                                 ('dummify',\n",
       "                                                  OneHotEncoder(sparse_output=False),\n",
       "                                                  ['Neighborhood',\n",
       "                                                   'Central Air'])])),\n",
       "                ('linear_regression', LinearRegression())])"
      ]
     },
     "execution_count": 50,
     "metadata": {},
     "output_type": "execute_result"
    }
   ],
   "source": [
    "# Create a linear regression pipieline\n",
    "lr_pipeline = Pipeline(\n",
    "  [('preprocessor', preprocessor),\n",
    "  (\"linear_regression\", LinearRegression())]\n",
    ")\n",
    "\n",
    "lr_pipeline"
   ]
  },
  {
   "cell_type": "code",
   "execution_count": 54,
   "id": "52dfdce3-a552-4735-8bf9-1985c4a05b1b",
   "metadata": {
    "tags": []
   },
   "outputs": [
    {
     "data": {
      "text/plain": [
       "({'Neighborhood_BrDale': -0.265045589530329,\n",
       "  'Neighborhood_MeadowV': -0.26115866227539797,\n",
       "  'Neighborhood_Veenker': 0.22300085252384924,\n",
       "  'Neighborhood_StoneBr': 0.22083192713796135,\n",
       "  'Neighborhood_NridgHt': 0.20010463396087108,\n",
       "  'Neighborhood_IDOTRR': -0.1720078428906969,\n",
       "  'Neighborhood_NoRidge': 0.15821474377144526,\n",
       "  'Overall Qual': 0.1440402390822932,\n",
       "  'Gr Liv Area': 0.14245266340499058,\n",
       "  'Neighborhood_Crawfor': 0.13745372034619524,\n",
       "  'Neighborhood_Timber': 0.1123737951250319,\n",
       "  'Neighborhood_NPkVill': -0.11206155344672182,\n",
       "  'Neighborhood_OldTown': -0.1091836353792111,\n",
       "  'Neighborhood_Edwards': -0.10084587452062686,\n",
       "  'Year Built': 0.08659913667454691,\n",
       "  'Neighborhood_ClearCr': 0.08380528071387364,\n",
       "  'Neighborhood_BrkSide': -0.08338784162407145,\n",
       "  'Neighborhood_Somerst': 0.07441389524153078,\n",
       "  'Central Air_N': -0.06827750323385258,\n",
       "  'Central Air_Y': 0.06827750323385247,\n",
       "  'Neighborhood_SWISU': -0.053420286320529635,\n",
       "  'Overall Cond': 0.05328735574758477,\n",
       "  'Neighborhood_Blueste': -0.04360467139366399,\n",
       "  'Neighborhood_CollgCr': 0.0418556834497264,\n",
       "  'Neighborhood_Greens': 0.03815363761907547,\n",
       "  'Neighborhood_SawyerW': -0.036374374412498314,\n",
       "  'Lot Area': 0.02417016668610783,\n",
       "  'Neighborhood_NWAmes': -0.02174241824767047,\n",
       "  'Pool Area': -0.012927470202069864,\n",
       "  'Lot Frontage': 0.011416131090800368,\n",
       "  'TotRms AbvGrd': -0.01111625799054477,\n",
       "  'Neighborhood_NAmes': -0.010194330603513803,\n",
       "  'Neighborhood_Mitchel': -0.009587095081445084,\n",
       "  'Full Bath': 0.00879248062637819,\n",
       "  'Neighborhood_Sawyer': -0.006927869380113148,\n",
       "  'Neighborhood_Gilbert': -0.005850048274936827,\n",
       "  'Yr Sold': -0.004717814470668691,\n",
       "  'Neighborhood_Blmngtn': 0.0011839234918647672},\n",
       " 0.02557374867400522)"
      ]
     },
     "execution_count": 54,
     "metadata": {},
     "output_type": "execute_result"
    }
   ],
   "source": [
    "# Fit the pipeline to the full dataset\n",
    "lr_pipeline.fit(X, y)\n",
    "\n",
    "# Extract coefficients from the linear regression model\n",
    "model_coefficients = lr_pipeline.named_steps['linear_regression'].coef_\n",
    "\n",
    "# Map coefficients to their corresponding feature names\n",
    "feature_names = np.concatenate([numerical_columns, preprocessor.named_transformers_['dummify'].get_feature_names_out()])\n",
    "coefficients = dict(zip(feature_names, model_coefficients))\n",
    "\n",
    "# Sort coefficients by absolute value\n",
    "sorted_coefficients = dict(sorted(coefficients.items(), key=lambda item: abs(item[1]), reverse=True))\n",
    "\n",
    "# Perform cross-validation to estimate MSE\n",
    "mse_scores = -cross_val_score(lr_pipeline, X, y, cv=5, scoring='neg_mean_squared_error')\n",
    "mean_mse = np.mean(mse_scores)\n",
    "\n",
    "sorted_coefficients, mean_mse"
   ]
  },
  {
   "cell_type": "markdown",
   "id": "168403bb-cefe-419e-8c74-789edd418e06",
   "metadata": {},
   "source": [
    "# Ridge regression"
   ]
  },
  {
   "cell_type": "code",
   "execution_count": 80,
   "id": "da8603f5-bd3b-4438-857d-1658a5587e51",
   "metadata": {
    "tags": []
   },
   "outputs": [
    {
     "data": {
      "text/html": [
       "<style>#sk-container-id-13 {color: black;}#sk-container-id-13 pre{padding: 0;}#sk-container-id-13 div.sk-toggleable {background-color: white;}#sk-container-id-13 label.sk-toggleable__label {cursor: pointer;display: block;width: 100%;margin-bottom: 0;padding: 0.3em;box-sizing: border-box;text-align: center;}#sk-container-id-13 label.sk-toggleable__label-arrow:before {content: \"▸\";float: left;margin-right: 0.25em;color: #696969;}#sk-container-id-13 label.sk-toggleable__label-arrow:hover:before {color: black;}#sk-container-id-13 div.sk-estimator:hover label.sk-toggleable__label-arrow:before {color: black;}#sk-container-id-13 div.sk-toggleable__content {max-height: 0;max-width: 0;overflow: hidden;text-align: left;background-color: #f0f8ff;}#sk-container-id-13 div.sk-toggleable__content pre {margin: 0.2em;color: black;border-radius: 0.25em;background-color: #f0f8ff;}#sk-container-id-13 input.sk-toggleable__control:checked~div.sk-toggleable__content {max-height: 200px;max-width: 100%;overflow: auto;}#sk-container-id-13 input.sk-toggleable__control:checked~label.sk-toggleable__label-arrow:before {content: \"▾\";}#sk-container-id-13 div.sk-estimator input.sk-toggleable__control:checked~label.sk-toggleable__label {background-color: #d4ebff;}#sk-container-id-13 div.sk-label input.sk-toggleable__control:checked~label.sk-toggleable__label {background-color: #d4ebff;}#sk-container-id-13 input.sk-hidden--visually {border: 0;clip: rect(1px 1px 1px 1px);clip: rect(1px, 1px, 1px, 1px);height: 1px;margin: -1px;overflow: hidden;padding: 0;position: absolute;width: 1px;}#sk-container-id-13 div.sk-estimator {font-family: monospace;background-color: #f0f8ff;border: 1px dotted black;border-radius: 0.25em;box-sizing: border-box;margin-bottom: 0.5em;}#sk-container-id-13 div.sk-estimator:hover {background-color: #d4ebff;}#sk-container-id-13 div.sk-parallel-item::after {content: \"\";width: 100%;border-bottom: 1px solid gray;flex-grow: 1;}#sk-container-id-13 div.sk-label:hover label.sk-toggleable__label {background-color: #d4ebff;}#sk-container-id-13 div.sk-serial::before {content: \"\";position: absolute;border-left: 1px solid gray;box-sizing: border-box;top: 0;bottom: 0;left: 50%;z-index: 0;}#sk-container-id-13 div.sk-serial {display: flex;flex-direction: column;align-items: center;background-color: white;padding-right: 0.2em;padding-left: 0.2em;position: relative;}#sk-container-id-13 div.sk-item {position: relative;z-index: 1;}#sk-container-id-13 div.sk-parallel {display: flex;align-items: stretch;justify-content: center;background-color: white;position: relative;}#sk-container-id-13 div.sk-item::before, #sk-container-id-13 div.sk-parallel-item::before {content: \"\";position: absolute;border-left: 1px solid gray;box-sizing: border-box;top: 0;bottom: 0;left: 50%;z-index: -1;}#sk-container-id-13 div.sk-parallel-item {display: flex;flex-direction: column;z-index: 1;position: relative;background-color: white;}#sk-container-id-13 div.sk-parallel-item:first-child::after {align-self: flex-end;width: 50%;}#sk-container-id-13 div.sk-parallel-item:last-child::after {align-self: flex-start;width: 50%;}#sk-container-id-13 div.sk-parallel-item:only-child::after {width: 0;}#sk-container-id-13 div.sk-dashed-wrapped {border: 1px dashed gray;margin: 0 0.4em 0.5em 0.4em;box-sizing: border-box;padding-bottom: 0.4em;background-color: white;}#sk-container-id-13 div.sk-label label {font-family: monospace;font-weight: bold;display: inline-block;line-height: 1.2em;}#sk-container-id-13 div.sk-label-container {text-align: center;}#sk-container-id-13 div.sk-container {/* jupyter's `normalize.less` sets `[hidden] { display: none; }` but bootstrap.min.css set `[hidden] { display: none !important; }` so we also need the `!important` here to be able to override the default hidden behavior on the sphinx rendered scikit-learn.org. See: https://github.com/scikit-learn/scikit-learn/issues/21755 */display: inline-block !important;position: relative;}#sk-container-id-13 div.sk-text-repr-fallback {display: none;}</style><div id=\"sk-container-id-13\" class=\"sk-top-container\"><div class=\"sk-text-repr-fallback\"><pre>GridSearchCV(cv=5,\n",
       "             estimator=Pipeline(steps=[(&#x27;preprocessor&#x27;,\n",
       "                                        ColumnTransformer(transformers=[(&#x27;standardize&#x27;,\n",
       "                                                                         StandardScaler(),\n",
       "                                                                         [&#x27;Lot &#x27;\n",
       "                                                                          &#x27;Frontage&#x27;,\n",
       "                                                                          &#x27;Lot &#x27;\n",
       "                                                                          &#x27;Area&#x27;,\n",
       "                                                                          &#x27;Overall &#x27;\n",
       "                                                                          &#x27;Qual&#x27;,\n",
       "                                                                          &#x27;Overall &#x27;\n",
       "                                                                          &#x27;Cond&#x27;,\n",
       "                                                                          &#x27;Year &#x27;\n",
       "                                                                          &#x27;Built&#x27;,\n",
       "                                                                          &#x27;Gr &#x27;\n",
       "                                                                          &#x27;Liv &#x27;\n",
       "                                                                          &#x27;Area&#x27;,\n",
       "                                                                          &#x27;Full &#x27;\n",
       "                                                                          &#x27;Bath&#x27;,\n",
       "                                                                          &#x27;TotRms &#x27;\n",
       "                                                                          &#x27;AbvGrd&#x27;,\n",
       "                                                                          &#x27;Pool &#x27;\n",
       "                                                                          &#x27;Area&#x27;,\n",
       "                                                                          &#x27;Yr &#x27;\n",
       "                                                                          &#x27;Sold&#x27;]),\n",
       "                                                                        (&#x27;dummify&#x27;,\n",
       "                                                                         OneHotEncoder(sparse_output=False),\n",
       "                                                                         [&#x27;Neighborhood&#x27;,\n",
       "                                                                          &#x27;Central &#x27;\n",
       "                                                                          &#x27;Air&#x27;])])),\n",
       "                                       (&#x27;regressor&#x27;, Ridge())]),\n",
       "             param_grid={&#x27;regressor__alpha&#x27;: [0.001, 0.01, 0.1, 1, 2, 3, 5, 10,\n",
       "                                              100]},\n",
       "             return_train_score=True, scoring=&#x27;neg_mean_squared_error&#x27;)</pre><b>In a Jupyter environment, please rerun this cell to show the HTML representation or trust the notebook. <br />On GitHub, the HTML representation is unable to render, please try loading this page with nbviewer.org.</b></div><div class=\"sk-container\" hidden><div class=\"sk-item sk-dashed-wrapped\"><div class=\"sk-label-container\"><div class=\"sk-label sk-toggleable\"><input class=\"sk-toggleable__control sk-hidden--visually\" id=\"sk-estimator-id-77\" type=\"checkbox\" ><label for=\"sk-estimator-id-77\" class=\"sk-toggleable__label sk-toggleable__label-arrow\">GridSearchCV</label><div class=\"sk-toggleable__content\"><pre>GridSearchCV(cv=5,\n",
       "             estimator=Pipeline(steps=[(&#x27;preprocessor&#x27;,\n",
       "                                        ColumnTransformer(transformers=[(&#x27;standardize&#x27;,\n",
       "                                                                         StandardScaler(),\n",
       "                                                                         [&#x27;Lot &#x27;\n",
       "                                                                          &#x27;Frontage&#x27;,\n",
       "                                                                          &#x27;Lot &#x27;\n",
       "                                                                          &#x27;Area&#x27;,\n",
       "                                                                          &#x27;Overall &#x27;\n",
       "                                                                          &#x27;Qual&#x27;,\n",
       "                                                                          &#x27;Overall &#x27;\n",
       "                                                                          &#x27;Cond&#x27;,\n",
       "                                                                          &#x27;Year &#x27;\n",
       "                                                                          &#x27;Built&#x27;,\n",
       "                                                                          &#x27;Gr &#x27;\n",
       "                                                                          &#x27;Liv &#x27;\n",
       "                                                                          &#x27;Area&#x27;,\n",
       "                                                                          &#x27;Full &#x27;\n",
       "                                                                          &#x27;Bath&#x27;,\n",
       "                                                                          &#x27;TotRms &#x27;\n",
       "                                                                          &#x27;AbvGrd&#x27;,\n",
       "                                                                          &#x27;Pool &#x27;\n",
       "                                                                          &#x27;Area&#x27;,\n",
       "                                                                          &#x27;Yr &#x27;\n",
       "                                                                          &#x27;Sold&#x27;]),\n",
       "                                                                        (&#x27;dummify&#x27;,\n",
       "                                                                         OneHotEncoder(sparse_output=False),\n",
       "                                                                         [&#x27;Neighborhood&#x27;,\n",
       "                                                                          &#x27;Central &#x27;\n",
       "                                                                          &#x27;Air&#x27;])])),\n",
       "                                       (&#x27;regressor&#x27;, Ridge())]),\n",
       "             param_grid={&#x27;regressor__alpha&#x27;: [0.001, 0.01, 0.1, 1, 2, 3, 5, 10,\n",
       "                                              100]},\n",
       "             return_train_score=True, scoring=&#x27;neg_mean_squared_error&#x27;)</pre></div></div></div><div class=\"sk-parallel\"><div class=\"sk-parallel-item\"><div class=\"sk-item\"><div class=\"sk-label-container\"><div class=\"sk-label sk-toggleable\"><input class=\"sk-toggleable__control sk-hidden--visually\" id=\"sk-estimator-id-78\" type=\"checkbox\" ><label for=\"sk-estimator-id-78\" class=\"sk-toggleable__label sk-toggleable__label-arrow\">estimator: Pipeline</label><div class=\"sk-toggleable__content\"><pre>Pipeline(steps=[(&#x27;preprocessor&#x27;,\n",
       "                 ColumnTransformer(transformers=[(&#x27;standardize&#x27;,\n",
       "                                                  StandardScaler(),\n",
       "                                                  [&#x27;Lot Frontage&#x27;, &#x27;Lot Area&#x27;,\n",
       "                                                   &#x27;Overall Qual&#x27;,\n",
       "                                                   &#x27;Overall Cond&#x27;, &#x27;Year Built&#x27;,\n",
       "                                                   &#x27;Gr Liv Area&#x27;, &#x27;Full Bath&#x27;,\n",
       "                                                   &#x27;TotRms AbvGrd&#x27;, &#x27;Pool Area&#x27;,\n",
       "                                                   &#x27;Yr Sold&#x27;]),\n",
       "                                                 (&#x27;dummify&#x27;,\n",
       "                                                  OneHotEncoder(sparse_output=False),\n",
       "                                                  [&#x27;Neighborhood&#x27;,\n",
       "                                                   &#x27;Central Air&#x27;])])),\n",
       "                (&#x27;regressor&#x27;, Ridge())])</pre></div></div></div><div class=\"sk-serial\"><div class=\"sk-item\"><div class=\"sk-serial\"><div class=\"sk-item sk-dashed-wrapped\"><div class=\"sk-label-container\"><div class=\"sk-label sk-toggleable\"><input class=\"sk-toggleable__control sk-hidden--visually\" id=\"sk-estimator-id-79\" type=\"checkbox\" ><label for=\"sk-estimator-id-79\" class=\"sk-toggleable__label sk-toggleable__label-arrow\">preprocessor: ColumnTransformer</label><div class=\"sk-toggleable__content\"><pre>ColumnTransformer(transformers=[(&#x27;standardize&#x27;, StandardScaler(),\n",
       "                                 [&#x27;Lot Frontage&#x27;, &#x27;Lot Area&#x27;, &#x27;Overall Qual&#x27;,\n",
       "                                  &#x27;Overall Cond&#x27;, &#x27;Year Built&#x27;, &#x27;Gr Liv Area&#x27;,\n",
       "                                  &#x27;Full Bath&#x27;, &#x27;TotRms AbvGrd&#x27;, &#x27;Pool Area&#x27;,\n",
       "                                  &#x27;Yr Sold&#x27;]),\n",
       "                                (&#x27;dummify&#x27;, OneHotEncoder(sparse_output=False),\n",
       "                                 [&#x27;Neighborhood&#x27;, &#x27;Central Air&#x27;])])</pre></div></div></div><div class=\"sk-parallel\"><div class=\"sk-parallel-item\"><div class=\"sk-item\"><div class=\"sk-label-container\"><div class=\"sk-label sk-toggleable\"><input class=\"sk-toggleable__control sk-hidden--visually\" id=\"sk-estimator-id-80\" type=\"checkbox\" ><label for=\"sk-estimator-id-80\" class=\"sk-toggleable__label sk-toggleable__label-arrow\">standardize</label><div class=\"sk-toggleable__content\"><pre>[&#x27;Lot Frontage&#x27;, &#x27;Lot Area&#x27;, &#x27;Overall Qual&#x27;, &#x27;Overall Cond&#x27;, &#x27;Year Built&#x27;, &#x27;Gr Liv Area&#x27;, &#x27;Full Bath&#x27;, &#x27;TotRms AbvGrd&#x27;, &#x27;Pool Area&#x27;, &#x27;Yr Sold&#x27;]</pre></div></div></div><div class=\"sk-serial\"><div class=\"sk-item\"><div class=\"sk-estimator sk-toggleable\"><input class=\"sk-toggleable__control sk-hidden--visually\" id=\"sk-estimator-id-81\" type=\"checkbox\" ><label for=\"sk-estimator-id-81\" class=\"sk-toggleable__label sk-toggleable__label-arrow\">StandardScaler</label><div class=\"sk-toggleable__content\"><pre>StandardScaler()</pre></div></div></div></div></div></div><div class=\"sk-parallel-item\"><div class=\"sk-item\"><div class=\"sk-label-container\"><div class=\"sk-label sk-toggleable\"><input class=\"sk-toggleable__control sk-hidden--visually\" id=\"sk-estimator-id-82\" type=\"checkbox\" ><label for=\"sk-estimator-id-82\" class=\"sk-toggleable__label sk-toggleable__label-arrow\">dummify</label><div class=\"sk-toggleable__content\"><pre>[&#x27;Neighborhood&#x27;, &#x27;Central Air&#x27;]</pre></div></div></div><div class=\"sk-serial\"><div class=\"sk-item\"><div class=\"sk-estimator sk-toggleable\"><input class=\"sk-toggleable__control sk-hidden--visually\" id=\"sk-estimator-id-83\" type=\"checkbox\" ><label for=\"sk-estimator-id-83\" class=\"sk-toggleable__label sk-toggleable__label-arrow\">OneHotEncoder</label><div class=\"sk-toggleable__content\"><pre>OneHotEncoder(sparse_output=False)</pre></div></div></div></div></div></div></div></div><div class=\"sk-item\"><div class=\"sk-estimator sk-toggleable\"><input class=\"sk-toggleable__control sk-hidden--visually\" id=\"sk-estimator-id-84\" type=\"checkbox\" ><label for=\"sk-estimator-id-84\" class=\"sk-toggleable__label sk-toggleable__label-arrow\">Ridge</label><div class=\"sk-toggleable__content\"><pre>Ridge()</pre></div></div></div></div></div></div></div></div></div></div></div></div>"
      ],
      "text/plain": [
       "GridSearchCV(cv=5,\n",
       "             estimator=Pipeline(steps=[('preprocessor',\n",
       "                                        ColumnTransformer(transformers=[('standardize',\n",
       "                                                                         StandardScaler(),\n",
       "                                                                         ['Lot '\n",
       "                                                                          'Frontage',\n",
       "                                                                          'Lot '\n",
       "                                                                          'Area',\n",
       "                                                                          'Overall '\n",
       "                                                                          'Qual',\n",
       "                                                                          'Overall '\n",
       "                                                                          'Cond',\n",
       "                                                                          'Year '\n",
       "                                                                          'Built',\n",
       "                                                                          'Gr '\n",
       "                                                                          'Liv '\n",
       "                                                                          'Area',\n",
       "                                                                          'Full '\n",
       "                                                                          'Bath',\n",
       "                                                                          'TotRms '\n",
       "                                                                          'AbvGrd',\n",
       "                                                                          'Pool '\n",
       "                                                                          'Area',\n",
       "                                                                          'Yr '\n",
       "                                                                          'Sold']),\n",
       "                                                                        ('dummify',\n",
       "                                                                         OneHotEncoder(sparse_output=False),\n",
       "                                                                         ['Neighborhood',\n",
       "                                                                          'Central '\n",
       "                                                                          'Air'])])),\n",
       "                                       ('regressor', Ridge())]),\n",
       "             param_grid={'regressor__alpha': [0.001, 0.01, 0.1, 1, 2, 3, 5, 10,\n",
       "                                              100]},\n",
       "             return_train_score=True, scoring='neg_mean_squared_error')"
      ]
     },
     "execution_count": 80,
     "metadata": {},
     "output_type": "execute_result"
    }
   ],
   "source": [
    "# Creating the ridge regression model\n",
    "ridge_reg = Ridge()\n",
    "\n",
    "# Creating a pipeline that first preprocesses the data and then applies ridge regression\n",
    "ridge_pipeline = Pipeline(steps=[('preprocessor', preprocessor),\n",
    "                           ('regressor', ridge_reg)])\n",
    "\n",
    "# Parameters for GridSearchCV\n",
    "param_grid = {\n",
    "    'regressor__alpha': [0.001, 0.01, 0.1, 1, 2, 3, 5, 10, 100]  # Different values for lambda (alpha in Ridge)\n",
    "}\n",
    "\n",
    "# Setting up the GridSearchCV to tune hyperparameters\n",
    "grid_search = GridSearchCV(ridge_pipeline, param_grid, cv=5, scoring='neg_mean_squared_error', return_train_score=True)\n",
    "\n",
    "# Fit the grid search to the data\n",
    "grid_search.fit(X, y)"
   ]
  },
  {
   "cell_type": "code",
   "execution_count": 81,
   "id": "e61d04a4-151d-417e-80d7-dd5a3675db2e",
   "metadata": {
    "tags": []
   },
   "outputs": [
    {
     "name": "stdout",
     "output_type": "stream",
     "text": [
      "  lambda  mse_scores\n",
      "2    0.1    0.025572\n"
     ]
    }
   ],
   "source": [
    "import pandas as pd\n",
    "\n",
    "# Assuming grid_search is your GridSearchCV object\n",
    "\n",
    "# Get the best hyperparameters\n",
    "best_alpha = grid_search.best_params_['regressor__alpha']\n",
    "\n",
    "# Create a DataFrame from the cross-validation results\n",
    "results_df = pd.DataFrame({\n",
    "    'lambda': grid_search.cv_results_['param_regressor__alpha'],\n",
    "    'mse_scores': -grid_search.cv_results_['mean_test_score']\n",
    "})\n",
    "\n",
    "# Filter the DataFrame to include only rows where the alpha value matches the best_alpha\n",
    "tmp = results_df[results_df['lambda'] == best_alpha]\n",
    "\n",
    "# Print the resulting DataFrame\n",
    "print(tmp)"
   ]
  },
  {
   "cell_type": "markdown",
   "id": "6469d1ca-1a43-4187-98f8-78fc361ffbbb",
   "metadata": {},
   "source": [
    "# Lasso Regression"
   ]
  },
  {
   "cell_type": "code",
   "execution_count": 88,
   "id": "a8de7d7d-391d-4738-8bc3-b3de64ae7164",
   "metadata": {
    "tags": []
   },
   "outputs": [],
   "source": [
    "# Creating the Lasso regression model\n",
    "lasso_reg = Lasso(max_iter=10000)  # Increasing max_iter for convergence\n",
    "\n",
    "# Creating a pipeline that first preprocesses the data and then applies Lasso regression\n",
    "lasso_pipeline = Pipeline(steps=[('preprocessor', preprocessor),\n",
    "                                 ('regressor', lasso_reg)])\n",
    "\n",
    "# Parameters for GridSearchCV for Lasso\n",
    "lasso_param_grid = {\n",
    "    'regressor__alpha': [0.001, 0.01, 0.1, 1, 10, 100]  # Different values for lambda in Lasso\n",
    "}\n",
    "\n",
    "# Setting up the GridSearchCV for Lasso\n",
    "lasso_grid_search = GridSearchCV(lasso_pipeline, lasso_param_grid, cv=5, scoring='neg_mean_squared_error', return_train_score=True)\n",
    "\n",
    "# Fit the grid search to the data for Lasso\n",
    "lasso_pipeline_fitted = lasso_grid_search.fit(X, y)"
   ]
  },
  {
   "cell_type": "code",
   "execution_count": 91,
   "id": "45e53360-9738-468e-b0de-1d640e7b476f",
   "metadata": {
    "tags": []
   },
   "outputs": [
    {
     "name": "stdout",
     "output_type": "stream",
     "text": [
      "  lambda  mse_scores\n",
      "0  0.001    0.026953\n"
     ]
    }
   ],
   "source": [
    "# Get the best hyperparameters\n",
    "best_alpha = lasso_grid_search.best_params_['regressor__alpha']\n",
    "\n",
    "# Create a DataFrame from the cross-validation results\n",
    "results_df = pd.DataFrame({\n",
    "    'lambda': lasso_grid_search.cv_results_['param_regressor__alpha'],\n",
    "    'mse_scores': -lasso_grid_search.cv_results_['mean_test_score']\n",
    "})\n",
    "\n",
    "# Filter the DataFrame to include only rows where the alpha value matches the best_alpha\n",
    "tmp = results_df[results_df['lambda'] == best_alpha]\n",
    "\n",
    "# Print the resulting DataFrame\n",
    "print(tmp)"
   ]
  },
  {
   "cell_type": "markdown",
   "id": "2a3a2c24-4d43-410d-a812-da34026ce45a",
   "metadata": {},
   "source": [
    "#  Elastic Net"
   ]
  },
  {
   "cell_type": "code",
   "execution_count": 102,
   "id": "d4697f15-fffb-4618-8603-9928ef72288f",
   "metadata": {
    "tags": []
   },
   "outputs": [],
   "source": [
    "elastic_net_pipeline = Pipeline([\n",
    "    ('preprocessor', preprocessor),\n",
    "    ('regressor', ElasticNet())\n",
    "])\n",
    "parameters = {'regressor__alpha' : [0.001, 0.005, 0.007, 0.01, 0.5, 2, 10],\n",
    "              'regressor__l1_ratio': [0.001, 0.1, 0.2, 0.4, 0.5, 0.8, 1],\n",
    "              'regressor__max_iter': [8000]\n",
    "             }\n",
    "\n",
    "en_grid_search = GridSearchCV(EN_pipeline, parameters, cv = 5, scoring='neg_mean_squared_error')\n",
    "en_grid_fitted = gscv.fit(X, y)"
   ]
  },
  {
   "cell_type": "code",
   "execution_count": 97,
   "id": "353d15b7-22ae-4bc0-95d5-8e7d56ef4300",
   "metadata": {
    "tags": []
   },
   "outputs": [
    {
     "data": {
      "text/plain": [
       "{'regressor__alpha': 0.001,\n",
       " 'regressor__l1_ratio': 0.001,\n",
       " 'regressor__max_iter': 8000}"
      ]
     },
     "execution_count": 97,
     "metadata": {},
     "output_type": "execute_result"
    }
   ],
   "source": [
    "# Best parameters\n",
    "best_params = en_grid_fitted.best_params_\n",
    "best_params"
   ]
  },
  {
   "cell_type": "code",
   "execution_count": 109,
   "id": "31a4d155-bad7-4bee-88e4-5f1a7d2b86ff",
   "metadata": {
    "tags": []
   },
   "outputs": [
    {
     "data": {
      "text/plain": [
       "0.025595058160222707"
      ]
     },
     "execution_count": 109,
     "metadata": {},
     "output_type": "execute_result"
    }
   ],
   "source": [
    "# Get the best mean MSE score\n",
    "best_mse = -en_grid_fitted.best_score_\n",
    "best_mse"
   ]
  },
  {
   "cell_type": "markdown",
   "id": "fb1dc841-1912-495a-8cbb-7117940b9445",
   "metadata": {},
   "source": [
    "# Prediction"
   ]
  },
  {
   "cell_type": "code",
   "execution_count": 124,
   "id": "2a32184d-9d5b-4279-ab3f-a154abd7d679",
   "metadata": {
    "tags": []
   },
   "outputs": [
    {
     "name": "stdout",
     "output_type": "stream",
     "text": [
      "<class 'pandas.core.frame.DataFrame'>\n",
      "RangeIndex: 605 entries, 0 to 604\n",
      "Data columns (total 24 columns):\n",
      " #   Column         Non-Null Count  Dtype \n",
      "---  ------         --------------  ----- \n",
      " 0   PID            605 non-null    int64 \n",
      " 1   Lot Frontage   605 non-null    int64 \n",
      " 2   Lot Area       605 non-null    int64 \n",
      " 3   Street         605 non-null    object\n",
      " 4   Neighborhood   605 non-null    object\n",
      " 5   Bldg Type      605 non-null    object\n",
      " 6   House Style    605 non-null    object\n",
      " 7   Overall Qual   605 non-null    int64 \n",
      " 8   Overall Cond   605 non-null    int64 \n",
      " 9   Year Built     605 non-null    int64 \n",
      " 10  Roof Style     605 non-null    object\n",
      " 11  Heating        605 non-null    object\n",
      " 12  Central Air    605 non-null    object\n",
      " 13  Electrical     605 non-null    object\n",
      " 14  Full Bath      605 non-null    int64 \n",
      " 15  Half Bath      605 non-null    int64 \n",
      " 16  Bedroom AbvGr  605 non-null    int64 \n",
      " 17  TotRms AbvGrd  605 non-null    int64 \n",
      " 18  Gr Liv Area    605 non-null    int64 \n",
      " 19  Functional     605 non-null    object\n",
      " 20  Screen Porch   605 non-null    int64 \n",
      " 21  Pool Area      605 non-null    int64 \n",
      " 22  Yr Sold        605 non-null    int64 \n",
      " 23  Sale Type      605 non-null    object\n",
      "dtypes: int64(14), object(10)\n",
      "memory usage: 113.6+ KB\n"
     ]
    }
   ],
   "source": [
    "test_data = pd.read_csv(\"/Users/ruojiakuang/Desktop/GSB S544 Computing and Machine Learning for Business Analytics/FInal Code/gsb-544-fall-2023-house-prices/test_new.csv\")\n",
    "test_data.info()"
   ]
  },
  {
   "cell_type": "code",
   "execution_count": 125,
   "id": "3bf6745d-645c-4b93-83d7-10666e3f9a7f",
   "metadata": {
    "tags": []
   },
   "outputs": [],
   "source": [
    "# Clean the dataset\n",
    "test_data_cleaned = test_data.drop('PID', axis=1, errors='ignore')\n",
    "\n",
    "X_test = test_data_cleaned[['Lot Frontage', 'Lot Area', 'Neighborhood', 'Overall Qual', 'Overall Cond', 'Year Built', 'Gr Liv Area', 'Full Bath', 'TotRms AbvGrd', 'Central Air', 'Pool Area', 'Yr Sold']]\n",
    "y_pred = elastic_net_pipeline.predict(X_test)"
   ]
  },
  {
   "cell_type": "code",
   "execution_count": 126,
   "id": "47fef834-97e2-4de8-adcf-0c8712234bde",
   "metadata": {
    "tags": []
   },
   "outputs": [
    {
     "data": {
      "text/html": [
       "<div>\n",
       "<style scoped>\n",
       "    .dataframe tbody tr th:only-of-type {\n",
       "        vertical-align: middle;\n",
       "    }\n",
       "\n",
       "    .dataframe tbody tr th {\n",
       "        vertical-align: top;\n",
       "    }\n",
       "\n",
       "    .dataframe thead th {\n",
       "        text-align: right;\n",
       "    }\n",
       "</style>\n",
       "<table border=\"1\" class=\"dataframe\">\n",
       "  <thead>\n",
       "    <tr style=\"text-align: right;\">\n",
       "      <th></th>\n",
       "      <th>PID</th>\n",
       "      <th>SalePrice</th>\n",
       "    </tr>\n",
       "  </thead>\n",
       "  <tbody>\n",
       "    <tr>\n",
       "      <th>0</th>\n",
       "      <td>907135180</td>\n",
       "      <td>125659.978656</td>\n",
       "    </tr>\n",
       "    <tr>\n",
       "      <th>1</th>\n",
       "      <td>528181040</td>\n",
       "      <td>225782.054634</td>\n",
       "    </tr>\n",
       "    <tr>\n",
       "      <th>2</th>\n",
       "      <td>528175010</td>\n",
       "      <td>224664.861329</td>\n",
       "    </tr>\n",
       "    <tr>\n",
       "      <th>3</th>\n",
       "      <td>531379030</td>\n",
       "      <td>184066.011171</td>\n",
       "    </tr>\n",
       "    <tr>\n",
       "      <th>4</th>\n",
       "      <td>923275090</td>\n",
       "      <td>123940.140486</td>\n",
       "    </tr>\n",
       "    <tr>\n",
       "      <th>...</th>\n",
       "      <td>...</td>\n",
       "      <td>...</td>\n",
       "    </tr>\n",
       "    <tr>\n",
       "      <th>600</th>\n",
       "      <td>528174060</td>\n",
       "      <td>198348.000081</td>\n",
       "    </tr>\n",
       "    <tr>\n",
       "      <th>601</th>\n",
       "      <td>903400180</td>\n",
       "      <td>156539.477535</td>\n",
       "    </tr>\n",
       "    <tr>\n",
       "      <th>602</th>\n",
       "      <td>903227150</td>\n",
       "      <td>123810.414740</td>\n",
       "    </tr>\n",
       "    <tr>\n",
       "      <th>603</th>\n",
       "      <td>909250070</td>\n",
       "      <td>168220.673064</td>\n",
       "    </tr>\n",
       "    <tr>\n",
       "      <th>604</th>\n",
       "      <td>909425180</td>\n",
       "      <td>191082.872270</td>\n",
       "    </tr>\n",
       "  </tbody>\n",
       "</table>\n",
       "<p>605 rows × 2 columns</p>\n",
       "</div>"
      ],
      "text/plain": [
       "           PID      SalePrice\n",
       "0    907135180  125659.978656\n",
       "1    528181040  225782.054634\n",
       "2    528175010  224664.861329\n",
       "3    531379030  184066.011171\n",
       "4    923275090  123940.140486\n",
       "..         ...            ...\n",
       "600  528174060  198348.000081\n",
       "601  903400180  156539.477535\n",
       "602  903227150  123810.414740\n",
       "603  909250070  168220.673064\n",
       "604  909425180  191082.872270\n",
       "\n",
       "[605 rows x 2 columns]"
      ]
     },
     "execution_count": 126,
     "metadata": {},
     "output_type": "execute_result"
    }
   ],
   "source": [
    "submission = pd.DataFrame()\n",
    "submission['PID'] = test_data['PID']\n",
    "submission['SalePrice']=np.exp(y_pred)\n",
    "submission"
   ]
  },
  {
   "cell_type": "code",
   "execution_count": 127,
   "id": "83c92f43-10db-4174-8005-9154f144de90",
   "metadata": {
    "tags": []
   },
   "outputs": [],
   "source": [
    "submission.to_csv('submission1.csv', index=False)"
   ]
  }
 ],
 "metadata": {
  "kernelspec": {
   "display_name": "Python 3 (ipykernel)",
   "language": "python",
   "name": "python3"
  },
  "language_info": {
   "codemirror_mode": {
    "name": "ipython",
    "version": 3
   },
   "file_extension": ".py",
   "mimetype": "text/x-python",
   "name": "python",
   "nbconvert_exporter": "python",
   "pygments_lexer": "ipython3",
   "version": "3.11.4"
  }
 },
 "nbformat": 4,
 "nbformat_minor": 5
}
